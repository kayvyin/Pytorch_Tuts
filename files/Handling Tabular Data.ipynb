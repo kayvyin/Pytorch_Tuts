{
 "cells": [
  {
   "cell_type": "code",
   "execution_count": 1,
   "id": "676a7d33",
   "metadata": {},
   "outputs": [],
   "source": [
    "#Thousands of open source data sets available, but must encode these datas into usable tensors"
   ]
  },
  {
   "cell_type": "code",
   "execution_count": 2,
   "id": "c748a689",
   "metadata": {},
   "outputs": [],
   "source": [
    "#Working with a Wine Quality Data Set"
   ]
  },
  {
   "cell_type": "code",
   "execution_count": 3,
   "id": "63f83613",
   "metadata": {},
   "outputs": [],
   "source": [
    "#12 columns below from csv range\n",
    "#First eleven columns have numerical chemical values, last contians sensory quality from 0 - 10 (worst to best)\n",
    "#fixed acidity\n",
    "#volatile acidity\n",
    "#citric acid\n",
    "#residual sugar\n",
    "#chlorides\n",
    "#free sulfur dioxide\n",
    "#total sulfur dioxide\n",
    "#density\n",
    "#pH\n",
    "#sulphates\n",
    "#alcohol\n",
    "#quality"
   ]
  },
  {
   "cell_type": "code",
   "execution_count": 4,
   "id": "2d8abdc9",
   "metadata": {},
   "outputs": [],
   "source": [
    "#Possibly use this dataset to help a CNN predict wine quality"
   ]
  },
  {
   "cell_type": "code",
   "execution_count": 5,
   "id": "0f090cc2",
   "metadata": {},
   "outputs": [
    {
     "data": {
      "text/plain": [
       "array([[ 7.  ,  0.27,  0.36, ...,  0.45,  8.8 ,  6.  ],\n",
       "       [ 6.3 ,  0.3 ,  0.34, ...,  0.49,  9.5 ,  6.  ],\n",
       "       [ 8.1 ,  0.28,  0.4 , ...,  0.44, 10.1 ,  6.  ],\n",
       "       ...,\n",
       "       [ 6.5 ,  0.24,  0.19, ...,  0.46,  9.4 ,  6.  ],\n",
       "       [ 5.5 ,  0.29,  0.3 , ...,  0.38, 12.8 ,  7.  ],\n",
       "       [ 6.  ,  0.21,  0.38, ...,  0.32, 11.8 ,  6.  ]], dtype=float32)"
      ]
     },
     "execution_count": 5,
     "metadata": {},
     "output_type": "execute_result"
    }
   ],
   "source": [
    "import csv\n",
    "import torch\n",
    "import numpy as np\n",
    "wine_path = \"../data/winequality-white.csv\"\n",
    "#load csv into numpy array, skip first row as it is all labels\n",
    "wineq_numpy = np.loadtxt(wine_path, dtype=np.float32, delimiter=\";\",\n",
    "skiprows=1)\n",
    "wineq_numpy"
   ]
  },
  {
   "cell_type": "code",
   "execution_count": 6,
   "id": "20b8bf4c",
   "metadata": {},
   "outputs": [
    {
     "data": {
      "text/plain": [
       "((4898, 12),\n",
       " ['fixed acidity',\n",
       "  'volatile acidity',\n",
       "  'citric acid',\n",
       "  'residual sugar',\n",
       "  'chlorides',\n",
       "  'free sulfur dioxide',\n",
       "  'total sulfur dioxide',\n",
       "  'density',\n",
       "  'pH',\n",
       "  'sulphates',\n",
       "  'alcohol',\n",
       "  'quality'])"
      ]
     },
     "execution_count": 6,
     "metadata": {},
     "output_type": "execute_result"
    }
   ],
   "source": [
    "col_list = next(csv.reader(open(wine_path), delimiter=';'))\n",
    "\n",
    "wineq_numpy.shape, col_list"
   ]
  },
  {
   "cell_type": "code",
   "execution_count": 7,
   "id": "e8c91ef0",
   "metadata": {},
   "outputs": [],
   "source": [
    "#convert numpy array into tensor"
   ]
  },
  {
   "cell_type": "code",
   "execution_count": 8,
   "id": "c6580819",
   "metadata": {},
   "outputs": [],
   "source": [
    "wineq = torch.from_numpy(wineq_numpy)"
   ]
  },
  {
   "cell_type": "code",
   "execution_count": 9,
   "id": "57ceac8d",
   "metadata": {},
   "outputs": [
    {
     "data": {
      "text/plain": [
       "(torch.Size([4898, 12]), torch.float32)"
      ]
     },
     "execution_count": 9,
     "metadata": {},
     "output_type": "execute_result"
    }
   ],
   "source": [
    "wineq.shape, wineq.dtype"
   ]
  },
  {
   "cell_type": "code",
   "execution_count": 10,
   "id": "39614552",
   "metadata": {},
   "outputs": [],
   "source": [
    "#we only need the firt 11 columns not the quality score"
   ]
  },
  {
   "cell_type": "code",
   "execution_count": 11,
   "id": "60f79afa",
   "metadata": {},
   "outputs": [],
   "source": [
    "data = wineq[:, : -1] #all rows all columns except last "
   ]
  },
  {
   "cell_type": "code",
   "execution_count": 12,
   "id": "f0ecca7d",
   "metadata": {},
   "outputs": [
    {
     "data": {
      "text/plain": [
       "(tensor([[ 7.0000,  0.2700,  0.3600,  ...,  3.0000,  0.4500,  8.8000],\n",
       "         [ 6.3000,  0.3000,  0.3400,  ...,  3.3000,  0.4900,  9.5000],\n",
       "         [ 8.1000,  0.2800,  0.4000,  ...,  3.2600,  0.4400, 10.1000],\n",
       "         ...,\n",
       "         [ 6.5000,  0.2400,  0.1900,  ...,  2.9900,  0.4600,  9.4000],\n",
       "         [ 5.5000,  0.2900,  0.3000,  ...,  3.3400,  0.3800, 12.8000],\n",
       "         [ 6.0000,  0.2100,  0.3800,  ...,  3.2600,  0.3200, 11.8000]]),\n",
       " torch.Size([4898, 11]))"
      ]
     },
     "execution_count": 12,
     "metadata": {},
     "output_type": "execute_result"
    }
   ],
   "source": [
    "data, data.shape"
   ]
  },
  {
   "cell_type": "code",
   "execution_count": 13,
   "id": "5a04748e",
   "metadata": {},
   "outputs": [],
   "source": [
    "target = wineq[:, -1].long()"
   ]
  },
  {
   "cell_type": "code",
   "execution_count": 14,
   "id": "ebc6b4da",
   "metadata": {},
   "outputs": [
    {
     "data": {
      "text/plain": [
       "(tensor([6, 6, 6,  ..., 6, 7, 6]), torch.Size([4898]))"
      ]
     },
     "execution_count": 14,
     "metadata": {},
     "output_type": "execute_result"
    }
   ],
   "source": [
    "target, target.shape"
   ]
  },
  {
   "cell_type": "code",
   "execution_count": 15,
   "id": "adfa8027",
   "metadata": {},
   "outputs": [],
   "source": [
    "#In this case it may work better to encode the quality scores as a label"
   ]
  },
  {
   "cell_type": "code",
   "execution_count": 16,
   "id": "38828497",
   "metadata": {},
   "outputs": [],
   "source": [
    "#However, in a categorical sense we can use an approach called one-hot encoding"
   ]
  },
  {
   "cell_type": "code",
   "execution_count": 17,
   "id": "bc5a6631",
   "metadata": {},
   "outputs": [],
   "source": [
    "#In this case we could have a vector of 10 elements"
   ]
  },
  {
   "cell_type": "code",
   "execution_count": 18,
   "id": "321055db",
   "metadata": {},
   "outputs": [],
   "source": [
    "#each score would be mapped onto the vector, say a 5 <0,0,0,0,1,0,0,0,0,0>"
   ]
  },
  {
   "cell_type": "code",
   "execution_count": 19,
   "id": "2ec4996f",
   "metadata": {},
   "outputs": [],
   "source": [
    "target_onehot = torch.zeros(target.shape[0], 10)"
   ]
  },
  {
   "cell_type": "code",
   "execution_count": 20,
   "id": "4faf3c52",
   "metadata": {},
   "outputs": [
    {
     "data": {
      "text/plain": [
       "tensor([[0., 0., 0.,  ..., 0., 0., 0.],\n",
       "        [0., 0., 0.,  ..., 0., 0., 0.],\n",
       "        [0., 0., 0.,  ..., 0., 0., 0.],\n",
       "        ...,\n",
       "        [0., 0., 0.,  ..., 0., 0., 0.],\n",
       "        [0., 0., 0.,  ..., 1., 0., 0.],\n",
       "        [0., 0., 0.,  ..., 0., 0., 0.]])"
      ]
     },
     "execution_count": 20,
     "metadata": {},
     "output_type": "execute_result"
    }
   ],
   "source": [
    "target_onehot.scatter_(1,target.unsqueeze(1), 1.0)"
   ]
  },
  {
   "cell_type": "code",
   "execution_count": 21,
   "id": "6f38160b",
   "metadata": {},
   "outputs": [],
   "source": [
    "#scatter_, ends with _ so it does not return a new tensor, but will modify the tensor in place"
   ]
  },
  {
   "cell_type": "code",
   "execution_count": 22,
   "id": "712f84bb",
   "metadata": {},
   "outputs": [],
   "source": [
    "#Arguments for scatter: dimension along which the column tnesor indicating the indices of the elements to scatter"
   ]
  },
  {
   "cell_type": "code",
   "execution_count": 23,
   "id": "bf290748",
   "metadata": {},
   "outputs": [],
   "source": [
    "#and the tensor containing the elements to scatter or a single scalar to scatter"
   ]
  },
  {
   "cell_type": "code",
   "execution_count": 24,
   "id": "c2b23447",
   "metadata": {},
   "outputs": [],
   "source": [
    "target_unsqueezed = target.unsqueeze(1)"
   ]
  },
  {
   "cell_type": "code",
   "execution_count": 25,
   "id": "57dd4ec7",
   "metadata": {},
   "outputs": [
    {
     "data": {
      "text/plain": [
       "tensor([[6],\n",
       "        [6],\n",
       "        [6],\n",
       "        ...,\n",
       "        [6],\n",
       "        [7],\n",
       "        [6]])"
      ]
     },
     "execution_count": 25,
     "metadata": {},
     "output_type": "execute_result"
    }
   ],
   "source": [
    "target_unsqueezed"
   ]
  },
  {
   "cell_type": "code",
   "execution_count": 26,
   "id": "52c080eb",
   "metadata": {},
   "outputs": [
    {
     "data": {
      "text/plain": [
       "tensor([6.8548e+00, 2.7824e-01, 3.3419e-01, 6.3914e+00, 4.5772e-02, 3.5308e+01,\n",
       "        1.3836e+02, 9.9403e-01, 3.1883e+00, 4.8985e-01, 1.0514e+01])"
      ]
     },
     "execution_count": 26,
     "metadata": {},
     "output_type": "execute_result"
    }
   ],
   "source": [
    "#Lets obtain the mean and std of each column\n",
    "data_mean = torch.mean(data, dim=0)\n",
    "data_mean"
   ]
  },
  {
   "cell_type": "code",
   "execution_count": 27,
   "id": "97a272d7",
   "metadata": {},
   "outputs": [
    {
     "data": {
      "text/plain": [
       "tensor([7.1211e-01, 1.0160e-02, 1.4646e-02, 2.5726e+01, 4.7733e-04, 2.8924e+02,\n",
       "        1.8061e+03, 8.9455e-06, 2.2801e-02, 1.3025e-02, 1.5144e+00])"
      ]
     },
     "execution_count": 27,
     "metadata": {},
     "output_type": "execute_result"
    }
   ],
   "source": [
    "data_var = torch.var(data, dim=0)\n",
    "data_var"
   ]
  },
  {
   "cell_type": "code",
   "execution_count": 28,
   "id": "64128ae0",
   "metadata": {},
   "outputs": [],
   "source": [
    "data_normalized = (data - data_mean) / torch.sqrt(data_var)"
   ]
  },
  {
   "cell_type": "code",
   "execution_count": 29,
   "id": "f70fef38",
   "metadata": {},
   "outputs": [
    {
     "data": {
      "text/plain": [
       "tensor([[ 1.7208e-01, -8.1761e-02,  2.1326e-01,  ..., -1.2468e+00,\n",
       "         -3.4915e-01, -1.3930e+00],\n",
       "        [-6.5743e-01,  2.1587e-01,  4.7996e-02,  ...,  7.3995e-01,\n",
       "          1.3422e-03, -8.2419e-01],\n",
       "        [ 1.4756e+00,  1.7450e-02,  5.4378e-01,  ...,  4.7505e-01,\n",
       "         -4.3677e-01, -3.3663e-01],\n",
       "        ...,\n",
       "        [-4.2043e-01, -3.7940e-01, -1.1915e+00,  ..., -1.3130e+00,\n",
       "         -2.6153e-01, -9.0545e-01],\n",
       "        [-1.6054e+00,  1.1666e-01, -2.8253e-01,  ...,  1.0049e+00,\n",
       "         -9.6251e-01,  1.8574e+00],\n",
       "        [-1.0129e+00, -6.7703e-01,  3.7852e-01,  ...,  4.7505e-01,\n",
       "         -1.4882e+00,  1.0448e+00]])"
      ]
     },
     "execution_count": 29,
     "metadata": {},
     "output_type": "execute_result"
    }
   ],
   "source": [
    "data_normalized"
   ]
  },
  {
   "cell_type": "code",
   "execution_count": 30,
   "id": "38f3ff51",
   "metadata": {},
   "outputs": [],
   "source": [
    "#Finding thresholds"
   ]
  },
  {
   "cell_type": "code",
   "execution_count": 31,
   "id": "29696af9",
   "metadata": {},
   "outputs": [],
   "source": [
    "#Find which rows in target with a score less or equal to 3 (Bad wines)"
   ]
  },
  {
   "cell_type": "code",
   "execution_count": 32,
   "id": "c9600e37",
   "metadata": {},
   "outputs": [
    {
     "data": {
      "text/plain": [
       "(torch.Size([4898]), torch.bool, tensor(20))"
      ]
     },
     "execution_count": 32,
     "metadata": {},
     "output_type": "execute_result"
    }
   ],
   "source": [
    "bad_indexes = target <= 3 \n",
    "bad_indexes.shape, bad_indexes.dtype, bad_indexes.sum()"
   ]
  },
  {
   "cell_type": "code",
   "execution_count": 33,
   "id": "df6f9916",
   "metadata": {},
   "outputs": [],
   "source": [
    "#PyTorch has advanecd indexing, we can use tensor with bool's to index the data tensor -->Filter data to be only rows with True"
   ]
  },
  {
   "cell_type": "code",
   "execution_count": 34,
   "id": "6cc84971",
   "metadata": {},
   "outputs": [
    {
     "data": {
      "text/plain": [
       "torch.Size([20, 11])"
      ]
     },
     "execution_count": 34,
     "metadata": {},
     "output_type": "execute_result"
    }
   ],
   "source": [
    "bad_data = data[bad_indexes]\n",
    "bad_data.shape"
   ]
  },
  {
   "cell_type": "code",
   "execution_count": 35,
   "id": "8fb541cf",
   "metadata": {},
   "outputs": [],
   "source": [
    "#We can now  group the wines into varying categories (bad, mediocre, good)"
   ]
  },
  {
   "cell_type": "code",
   "execution_count": 36,
   "id": "3f0843e8",
   "metadata": {},
   "outputs": [
    {
     "name": "stdout",
     "output_type": "stream",
     "text": [
      " 0 fixed acidity          7.60   6.89   6.73\n",
      " 1 volatile acidity       0.33   0.28   0.27\n",
      " 2 citric acid            0.34   0.34   0.33\n",
      " 3 residual sugar         6.39   6.71   5.26\n",
      " 4 chlorides              0.05   0.05   0.04\n",
      " 5 free sulfur dioxide   53.33  35.42  34.55\n",
      " 6 total sulfur dioxide 170.60 141.83 125.25\n",
      " 7 density                0.99   0.99   0.99\n",
      " 8 pH                     3.19   3.18   3.22\n",
      " 9 sulphates              0.47   0.49   0.50\n",
      "10 alcohol               10.34  10.26  11.42\n"
     ]
    }
   ],
   "source": [
    "bad_data = data[target <= 3]\n",
    "mid_data = data[(target > 3) & (target < 7)]\n",
    "good_data = data[target >= 7]\n",
    "\n",
    "bad_mean = torch.mean(bad_data, dim=0)\n",
    "mid_mean = torch.mean(mid_data, dim=0)\n",
    "good_mean = torch.mean(good_data, dim=0)\n",
    "\n",
    "for i, args in enumerate(zip(col_list, bad_mean, mid_mean, good_mean)):\n",
    "    print('{:2} {:20} {:6.2f} {:6.2f} {:6.2f}'.format(i, *args))"
   ]
  },
  {
   "cell_type": "code",
   "execution_count": 38,
   "id": "c5f02070",
   "metadata": {},
   "outputs": [],
   "source": [
    "#looking at the data here, we can see that total sulfur dioxide can be used as a criteria for bad vs good wines"
   ]
  },
  {
   "cell_type": "code",
   "execution_count": 39,
   "id": "61528cab",
   "metadata": {},
   "outputs": [
    {
     "data": {
      "text/plain": [
       "(torch.Size([4898]), torch.bool, tensor(2727))"
      ]
     },
     "execution_count": 39,
     "metadata": {},
     "output_type": "execute_result"
    }
   ],
   "source": [
    "total_sulfur_threshold = 141.83\n",
    "total_sulfur_data = data[:, 6]\n",
    "predicted_indexes = torch.lt(total_sulfur_data, total_sulfur_threshold)\n",
    "\n",
    "predicted_indexes.shape, predicted_indexes.dtype, predicted_indexes.sum()"
   ]
  },
  {
   "cell_type": "code",
   "execution_count": 40,
   "id": "350c9fb7",
   "metadata": {},
   "outputs": [],
   "source": [
    "#Above predicts that half of the wines will be considered good"
   ]
  },
  {
   "cell_type": "code",
   "execution_count": 41,
   "id": "d310369a",
   "metadata": {},
   "outputs": [],
   "source": [
    "actual_indexes = target > 5"
   ]
  },
  {
   "cell_type": "code",
   "execution_count": 42,
   "id": "7d46c28e",
   "metadata": {},
   "outputs": [
    {
     "data": {
      "text/plain": [
       "(torch.Size([4898]), torch.bool, tensor(3258))"
      ]
     },
     "execution_count": 42,
     "metadata": {},
     "output_type": "execute_result"
    }
   ],
   "source": [
    "actual_indexes.shape, actual_indexes.dtype, actual_indexes.sum()"
   ]
  },
  {
   "cell_type": "code",
   "execution_count": 44,
   "id": "cc239473",
   "metadata": {},
   "outputs": [],
   "source": [
    "#underprediction of the above average wines\n",
    "#Lets see under our basic model if the wines that we predicted > 5 will match with the actual"
   ]
  },
  {
   "cell_type": "code",
   "execution_count": 45,
   "id": "75dceb82",
   "metadata": {},
   "outputs": [
    {
     "data": {
      "text/plain": [
       "(2018, 0.74000733406674, 0.6193984039287906)"
      ]
     },
     "execution_count": 45,
     "metadata": {},
     "output_type": "execute_result"
    }
   ],
   "source": [
    "n_matches = torch.sum(actual_indexes & predicted_indexes).item()\n",
    "n_predicted = torch.sum(predicted_indexes).item()\n",
    "n_actual = torch.sum(actual_indexes).item()\n",
    "n_matches, n_matches / n_predicted, n_matches / n_actual"
   ]
  },
  {
   "cell_type": "code",
   "execution_count": null,
   "id": "3a7a0415",
   "metadata": {},
   "outputs": [],
   "source": [
    "#we see that there is a 74% chance of predicting a wine to be > 5"
   ]
  }
 ],
 "metadata": {
  "kernelspec": {
   "display_name": "Python 3",
   "language": "python",
   "name": "python3"
  },
  "language_info": {
   "codemirror_mode": {
    "name": "ipython",
    "version": 3
   },
   "file_extension": ".py",
   "mimetype": "text/x-python",
   "name": "python",
   "nbconvert_exporter": "python",
   "pygments_lexer": "ipython3",
   "version": "3.8.8"
  }
 },
 "nbformat": 4,
 "nbformat_minor": 5
}
