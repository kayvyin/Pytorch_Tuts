{
 "cells": [
  {
   "cell_type": "code",
   "execution_count": 1,
   "id": "099b29dc",
   "metadata": {},
   "outputs": [],
   "source": [
    "#Similar to 2-D images we are going to use a 3-D tensor to represent volumetric data"
   ]
  },
  {
   "cell_type": "code",
   "execution_count": 7,
   "id": "055bf5fe",
   "metadata": {},
   "outputs": [],
   "source": [
    "#Stack 2D slices into the 3D anatomy of subject of interest with a single intensity channel"
   ]
  },
  {
   "cell_type": "code",
   "execution_count": 8,
   "id": "39267b6f",
   "metadata": {},
   "outputs": [],
   "source": [
    "#load sample CT scan"
   ]
  },
  {
   "cell_type": "code",
   "execution_count": 9,
   "id": "1f441655",
   "metadata": {},
   "outputs": [
    {
     "name": "stdout",
     "output_type": "stream",
     "text": [
      "Reading DICOM (examining files): 1/99 files (1.0%99/99 files (100.0%)\n",
      "  Found 1 correct series.\n",
      "Reading DICOM (loading data): 99/99  (100.0%)\n"
     ]
    },
    {
     "data": {
      "text/plain": [
       "(99, 512, 512)"
      ]
     },
     "execution_count": 9,
     "metadata": {},
     "output_type": "execute_result"
    }
   ],
   "source": [
    "import torch\n",
    "import imageio\n",
    "dir_path = \"../data/2-LUNG 3.0 B70f-04083\"\n",
    "vol_arr = imageio.volread(dir_path, 'DICOM')\n",
    "vol_arr.shape"
   ]
  },
  {
   "cell_type": "code",
   "execution_count": 10,
   "id": "8449c571",
   "metadata": {},
   "outputs": [],
   "source": [
    "#Importing the volumetric data does not match with PyTorch functions"
   ]
  },
  {
   "cell_type": "code",
   "execution_count": 11,
   "id": "5e9722bd",
   "metadata": {},
   "outputs": [],
   "source": [
    "#Must unsqueeze to include the single intensity channel"
   ]
  },
  {
   "cell_type": "code",
   "execution_count": 12,
   "id": "722c3073",
   "metadata": {},
   "outputs": [],
   "source": [
    "vol = torch.from_numpy(vol_arr).float()"
   ]
  },
  {
   "cell_type": "code",
   "execution_count": 13,
   "id": "ba5dc2be",
   "metadata": {},
   "outputs": [],
   "source": [
    "vol = torch.unsqueeze(vol, 0)"
   ]
  },
  {
   "cell_type": "code",
   "execution_count": 14,
   "id": "8ce433fe",
   "metadata": {},
   "outputs": [
    {
     "data": {
      "text/plain": [
       "torch.Size([1, 99, 512, 512])"
      ]
     },
     "execution_count": 14,
     "metadata": {},
     "output_type": "execute_result"
    }
   ],
   "source": [
    "vol.shape"
   ]
  },
  {
   "cell_type": "code",
   "execution_count": null,
   "id": "9f5d8b90",
   "metadata": {},
   "outputs": [],
   "source": [
    "#From here we can stack multiple 4-D tensors to include our batch data"
   ]
  }
 ],
 "metadata": {
  "kernelspec": {
   "display_name": "Python 3",
   "language": "python",
   "name": "python3"
  },
  "language_info": {
   "codemirror_mode": {
    "name": "ipython",
    "version": 3
   },
   "file_extension": ".py",
   "mimetype": "text/x-python",
   "name": "python",
   "nbconvert_exporter": "python",
   "pygments_lexer": "ipython3",
   "version": "3.8.8"
  }
 },
 "nbformat": 4,
 "nbformat_minor": 5
}
